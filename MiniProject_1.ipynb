{
  "nbformat": 4,
  "nbformat_minor": 0,
  "metadata": {
    "kernelspec": {
      "display_name": "Python 3",
      "language": "python",
      "name": "python3"
    },
    "language_info": {
      "codemirror_mode": {
        "name": "ipython",
        "version": 3
      },
      "file_extension": ".py",
      "mimetype": "text/x-python",
      "name": "python",
      "nbconvert_exporter": "python",
      "pygments_lexer": "ipython3",
      "version": "3.8.5"
    },
    "colab": {
      "name": "KMeansClustering.ipynb",
      "provenance": [],
      "include_colab_link": true
    }
  },
  "cells": [
    {
      "cell_type": "markdown",
      "metadata": {
        "id": "view-in-github",
        "colab_type": "text"
      },
      "source": [
        "<a href=\"https://colab.research.google.com/github/du-hr/covid-atals/blob/main/MiniProject_1.ipynb\" target=\"_parent\"><img src=\"https://colab.research.google.com/assets/colab-badge.svg\" alt=\"Open In Colab\"/></a>"
      ]
    },
    {
      "cell_type": "markdown",
      "metadata": {
        "id": "TwdLP40A4X-A"
      },
      "source": [
        "[![Open In Colab](https://colab.research.google.com/assets/colab-badge.svg)](https://colab.research.google.com/github/du-hr/covid-atals/blob/main/MiniProject_1.ipynb)\n",
        "\n",
        "\n",
        "# Poject COVID Atalas: Analyzing COVID-19 Search Trends and Hospitalization with ML\n",
        "\n",
        "\n",
        "> MiniProject 1 of COMP 551 (Fall 2020) at McGill University\n",
        "\n",
        "\n",
        "> Authors (G68): Haoran Du, Cong Zhu, Matthew Kourlas\n",
        "\n",
        "\n",
        "\n"
      ]
    },
    {
      "cell_type": "markdown",
      "metadata": {
        "id": "o35p616CA6Jv"
      },
      "source": [
        "## Task 1: Acquire, preprocess, and analyze the data."
      ]
    },
    {
      "cell_type": "markdown",
      "metadata": {
        "id": "q_wjsnpeCMOj"
      },
      "source": [
        "### 1.1 Download the datasets. Load the datasets into Pandas dataframes or NumPy objects (i.e., arrays or matrices) in Python."
      ]
    },
    {
      "cell_type": "code",
      "metadata": {
        "id": "afX9SeCcBgWy"
      },
      "source": [
        ""
      ],
      "execution_count": null,
      "outputs": []
    },
    {
      "cell_type": "markdown",
      "metadata": {
        "id": "1FWjX-6kCeYz"
      },
      "source": [
        "###1.2 Clean the data. Remove regions and features that have too many missing or invalid data entries."
      ]
    },
    {
      "cell_type": "code",
      "metadata": {
        "id": "426Itwv9CrIq"
      },
      "source": [
        ""
      ],
      "execution_count": null,
      "outputs": []
    },
    {
      "cell_type": "markdown",
      "metadata": {
        "id": "V12frC3-Crgc"
      },
      "source": [
        "###1.3 Merge the two datasets. Bring both the datasets at the weekly resolution and thereafter merge them into one array (Numpy or Pandas)."
      ]
    },
    {
      "cell_type": "code",
      "metadata": {
        "id": "RbODdNzUC9fk"
      },
      "source": [
        ""
      ],
      "execution_count": null,
      "outputs": []
    },
    {
      "cell_type": "markdown",
      "metadata": {
        "id": "hzdXlenEBgjn"
      },
      "source": [
        "# Task 2: Visualize and cluster the data"
      ]
    },
    {
      "cell_type": "markdown",
      "metadata": {
        "id": "IZh9J15iEVko"
      },
      "source": [
        "### 2.1 Visualize how the distribution of search frequency of each symptom aggregated across different regions changes over time."
      ]
    },
    {
      "cell_type": "code",
      "metadata": {
        "id": "vrWtPIAGBkb0"
      },
      "source": [
        ""
      ],
      "execution_count": null,
      "outputs": []
    },
    {
      "cell_type": "markdown",
      "metadata": {
        "id": "zsKmrhUXEdEe"
      },
      "source": [
        "###2.2 Use Principal Component Analysis (PCA) to reduce the data dimensionality."
      ]
    },
    {
      "cell_type": "code",
      "metadata": {
        "id": "T3rAUj5XEghh"
      },
      "source": [
        ""
      ],
      "execution_count": null,
      "outputs": []
    },
    {
      "cell_type": "markdown",
      "metadata": {
        "id": "4G6P7kdXEf7R"
      },
      "source": [
        "###2.3 Explore using a clustering method { e.g., k-means { to evaluate possible groups in the search trends dataset. Do the clusters remain consistent for raw as well as PCA-reduced data?"
      ]
    },
    {
      "cell_type": "code",
      "metadata": {
        "id": "VJdMS9h5E08M"
      },
      "source": [
        ""
      ],
      "execution_count": null,
      "outputs": []
    },
    {
      "cell_type": "markdown",
      "metadata": {
        "id": "2iYWPsXWBtdC"
      },
      "source": [
        "# Task 3: Supervised Learning"
      ]
    },
    {
      "cell_type": "code",
      "metadata": {
        "id": "TsJsKAk2BwIF"
      },
      "source": [
        ""
      ],
      "execution_count": null,
      "outputs": []
    },
    {
      "cell_type": "code",
      "metadata": {
        "id": "MtINN4Q0E1GC"
      },
      "source": [
        ""
      ],
      "execution_count": null,
      "outputs": []
    }
  ]
}